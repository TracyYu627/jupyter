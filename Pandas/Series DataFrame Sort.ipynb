{
 "cells": [
  {
   "cell_type": "code",
   "execution_count": 1,
   "metadata": {},
   "outputs": [],
   "source": [
    "import numpy as np\n",
    "import pandas as pd\n",
    "from pandas import Series, DataFrame"
   ]
  },
  {
   "cell_type": "code",
   "execution_count": 2,
   "metadata": {},
   "outputs": [
    {
     "data": {
      "text/plain": [
       "0    0.692106\n",
       "1   -0.055174\n",
       "2   -0.601795\n",
       "3    0.178397\n",
       "4    0.373113\n",
       "5    0.534098\n",
       "6    0.805950\n",
       "7    0.150940\n",
       "8   -1.012229\n",
       "9    0.085676\n",
       "dtype: float64"
      ]
     },
     "execution_count": 2,
     "metadata": {},
     "output_type": "execute_result"
    }
   ],
   "source": [
    "s1 = Series(np.random.randn(10))\n",
    "s1"
   ]
  },
  {
   "cell_type": "code",
   "execution_count": 4,
   "metadata": {},
   "outputs": [
    {
     "data": {
      "text/plain": [
       "array([ 0.69210582, -0.05517442, -0.60179468,  0.17839692,  0.37311287,\n",
       "        0.53409792,  0.80595016,  0.15093976, -1.01222924,  0.08567606])"
      ]
     },
     "execution_count": 4,
     "metadata": {},
     "output_type": "execute_result"
    }
   ],
   "source": [
    "s1.values"
   ]
  },
  {
   "cell_type": "code",
   "execution_count": 6,
   "metadata": {},
   "outputs": [
    {
     "data": {
      "text/plain": [
       "RangeIndex(start=0, stop=10, step=1)"
      ]
     },
     "execution_count": 6,
     "metadata": {},
     "output_type": "execute_result"
    }
   ],
   "source": [
    "s1.index"
   ]
  },
  {
   "cell_type": "code",
   "execution_count": 10,
   "metadata": {},
   "outputs": [
    {
     "data": {
      "text/plain": [
       "6    0.805950\n",
       "0    0.692106\n",
       "5    0.534098\n",
       "4    0.373113\n",
       "3    0.178397\n",
       "7    0.150940\n",
       "9    0.085676\n",
       "1   -0.055174\n",
       "2   -0.601795\n",
       "8   -1.012229\n",
       "dtype: float64"
      ]
     },
     "execution_count": 10,
     "metadata": {},
     "output_type": "execute_result"
    }
   ],
   "source": [
    "s1.sort_values(ascending=False)"
   ]
  },
  {
   "cell_type": "code",
   "execution_count": 11,
   "metadata": {},
   "outputs": [
    {
     "data": {
      "text/plain": [
       "9    0.085676\n",
       "8   -1.012229\n",
       "7    0.150940\n",
       "6    0.805950\n",
       "5    0.534098\n",
       "4    0.373113\n",
       "3    0.178397\n",
       "2   -0.601795\n",
       "1   -0.055174\n",
       "0    0.692106\n",
       "dtype: float64"
      ]
     },
     "execution_count": 11,
     "metadata": {},
     "output_type": "execute_result"
    }
   ],
   "source": [
    "s1.sort_index(ascending=False)"
   ]
  },
  {
   "cell_type": "markdown",
   "metadata": {},
   "source": [
    "# DataFrame"
   ]
  },
  {
   "cell_type": "code",
   "execution_count": 14,
   "metadata": {},
   "outputs": [],
   "source": [
    "df1 = DataFrame(np.random.randn(40).reshape(8,5),columns=['A','B','C','D','E'])"
   ]
  },
  {
   "cell_type": "code",
   "execution_count": 15,
   "metadata": {},
   "outputs": [
    {
     "data": {
      "text/html": [
       "<div>\n",
       "<style scoped>\n",
       "    .dataframe tbody tr th:only-of-type {\n",
       "        vertical-align: middle;\n",
       "    }\n",
       "\n",
       "    .dataframe tbody tr th {\n",
       "        vertical-align: top;\n",
       "    }\n",
       "\n",
       "    .dataframe thead th {\n",
       "        text-align: right;\n",
       "    }\n",
       "</style>\n",
       "<table border=\"1\" class=\"dataframe\">\n",
       "  <thead>\n",
       "    <tr style=\"text-align: right;\">\n",
       "      <th></th>\n",
       "      <th>A</th>\n",
       "      <th>B</th>\n",
       "      <th>C</th>\n",
       "      <th>D</th>\n",
       "      <th>E</th>\n",
       "    </tr>\n",
       "  </thead>\n",
       "  <tbody>\n",
       "    <tr>\n",
       "      <th>0</th>\n",
       "      <td>-0.745738</td>\n",
       "      <td>-0.101299</td>\n",
       "      <td>0.806091</td>\n",
       "      <td>1.514106</td>\n",
       "      <td>-0.113947</td>\n",
       "    </tr>\n",
       "    <tr>\n",
       "      <th>1</th>\n",
       "      <td>-1.848952</td>\n",
       "      <td>-2.438149</td>\n",
       "      <td>-1.020040</td>\n",
       "      <td>1.438472</td>\n",
       "      <td>-1.322352</td>\n",
       "    </tr>\n",
       "    <tr>\n",
       "      <th>2</th>\n",
       "      <td>-1.017121</td>\n",
       "      <td>-0.546560</td>\n",
       "      <td>1.473489</td>\n",
       "      <td>-1.543917</td>\n",
       "      <td>0.239414</td>\n",
       "    </tr>\n",
       "    <tr>\n",
       "      <th>3</th>\n",
       "      <td>-1.043673</td>\n",
       "      <td>0.068613</td>\n",
       "      <td>-0.569225</td>\n",
       "      <td>-1.420704</td>\n",
       "      <td>-0.514006</td>\n",
       "    </tr>\n",
       "    <tr>\n",
       "      <th>4</th>\n",
       "      <td>-0.890590</td>\n",
       "      <td>1.103491</td>\n",
       "      <td>-0.086584</td>\n",
       "      <td>-1.124422</td>\n",
       "      <td>0.306063</td>\n",
       "    </tr>\n",
       "    <tr>\n",
       "      <th>5</th>\n",
       "      <td>-0.341899</td>\n",
       "      <td>0.164348</td>\n",
       "      <td>0.402814</td>\n",
       "      <td>-1.383259</td>\n",
       "      <td>-1.018028</td>\n",
       "    </tr>\n",
       "    <tr>\n",
       "      <th>6</th>\n",
       "      <td>2.499634</td>\n",
       "      <td>1.711489</td>\n",
       "      <td>-0.071575</td>\n",
       "      <td>0.511890</td>\n",
       "      <td>1.002635</td>\n",
       "    </tr>\n",
       "    <tr>\n",
       "      <th>7</th>\n",
       "      <td>0.993657</td>\n",
       "      <td>-0.428136</td>\n",
       "      <td>-0.720561</td>\n",
       "      <td>1.832002</td>\n",
       "      <td>-2.092564</td>\n",
       "    </tr>\n",
       "  </tbody>\n",
       "</table>\n",
       "</div>"
      ],
      "text/plain": [
       "          A         B         C         D         E\n",
       "0 -0.745738 -0.101299  0.806091  1.514106 -0.113947\n",
       "1 -1.848952 -2.438149 -1.020040  1.438472 -1.322352\n",
       "2 -1.017121 -0.546560  1.473489 -1.543917  0.239414\n",
       "3 -1.043673  0.068613 -0.569225 -1.420704 -0.514006\n",
       "4 -0.890590  1.103491 -0.086584 -1.124422  0.306063\n",
       "5 -0.341899  0.164348  0.402814 -1.383259 -1.018028\n",
       "6  2.499634  1.711489 -0.071575  0.511890  1.002635\n",
       "7  0.993657 -0.428136 -0.720561  1.832002 -2.092564"
      ]
     },
     "execution_count": 15,
     "metadata": {},
     "output_type": "execute_result"
    }
   ],
   "source": [
    "df1"
   ]
  },
  {
   "cell_type": "code",
   "execution_count": 16,
   "metadata": {},
   "outputs": [
    {
     "data": {
      "text/plain": [
       "1   -1.848952\n",
       "3   -1.043673\n",
       "2   -1.017121\n",
       "4   -0.890590\n",
       "0   -0.745738\n",
       "5   -0.341899\n",
       "7    0.993657\n",
       "6    2.499634\n",
       "Name: A, dtype: float64"
      ]
     },
     "execution_count": 16,
     "metadata": {},
     "output_type": "execute_result"
    }
   ],
   "source": [
    "df1['A'].sort_values()"
   ]
  },
  {
   "cell_type": "code",
   "execution_count": 18,
   "metadata": {},
   "outputs": [
    {
     "data": {
      "text/html": [
       "<div>\n",
       "<style scoped>\n",
       "    .dataframe tbody tr th:only-of-type {\n",
       "        vertical-align: middle;\n",
       "    }\n",
       "\n",
       "    .dataframe tbody tr th {\n",
       "        vertical-align: top;\n",
       "    }\n",
       "\n",
       "    .dataframe thead th {\n",
       "        text-align: right;\n",
       "    }\n",
       "</style>\n",
       "<table border=\"1\" class=\"dataframe\">\n",
       "  <thead>\n",
       "    <tr style=\"text-align: right;\">\n",
       "      <th></th>\n",
       "      <th>A</th>\n",
       "      <th>B</th>\n",
       "      <th>C</th>\n",
       "      <th>D</th>\n",
       "      <th>E</th>\n",
       "    </tr>\n",
       "  </thead>\n",
       "  <tbody>\n",
       "    <tr>\n",
       "      <th>6</th>\n",
       "      <td>2.499634</td>\n",
       "      <td>1.711489</td>\n",
       "      <td>-0.071575</td>\n",
       "      <td>0.511890</td>\n",
       "      <td>1.002635</td>\n",
       "    </tr>\n",
       "    <tr>\n",
       "      <th>7</th>\n",
       "      <td>0.993657</td>\n",
       "      <td>-0.428136</td>\n",
       "      <td>-0.720561</td>\n",
       "      <td>1.832002</td>\n",
       "      <td>-2.092564</td>\n",
       "    </tr>\n",
       "    <tr>\n",
       "      <th>5</th>\n",
       "      <td>-0.341899</td>\n",
       "      <td>0.164348</td>\n",
       "      <td>0.402814</td>\n",
       "      <td>-1.383259</td>\n",
       "      <td>-1.018028</td>\n",
       "    </tr>\n",
       "    <tr>\n",
       "      <th>0</th>\n",
       "      <td>-0.745738</td>\n",
       "      <td>-0.101299</td>\n",
       "      <td>0.806091</td>\n",
       "      <td>1.514106</td>\n",
       "      <td>-0.113947</td>\n",
       "    </tr>\n",
       "    <tr>\n",
       "      <th>4</th>\n",
       "      <td>-0.890590</td>\n",
       "      <td>1.103491</td>\n",
       "      <td>-0.086584</td>\n",
       "      <td>-1.124422</td>\n",
       "      <td>0.306063</td>\n",
       "    </tr>\n",
       "    <tr>\n",
       "      <th>2</th>\n",
       "      <td>-1.017121</td>\n",
       "      <td>-0.546560</td>\n",
       "      <td>1.473489</td>\n",
       "      <td>-1.543917</td>\n",
       "      <td>0.239414</td>\n",
       "    </tr>\n",
       "    <tr>\n",
       "      <th>3</th>\n",
       "      <td>-1.043673</td>\n",
       "      <td>0.068613</td>\n",
       "      <td>-0.569225</td>\n",
       "      <td>-1.420704</td>\n",
       "      <td>-0.514006</td>\n",
       "    </tr>\n",
       "    <tr>\n",
       "      <th>1</th>\n",
       "      <td>-1.848952</td>\n",
       "      <td>-2.438149</td>\n",
       "      <td>-1.020040</td>\n",
       "      <td>1.438472</td>\n",
       "      <td>-1.322352</td>\n",
       "    </tr>\n",
       "  </tbody>\n",
       "</table>\n",
       "</div>"
      ],
      "text/plain": [
       "          A         B         C         D         E\n",
       "6  2.499634  1.711489 -0.071575  0.511890  1.002635\n",
       "7  0.993657 -0.428136 -0.720561  1.832002 -2.092564\n",
       "5 -0.341899  0.164348  0.402814 -1.383259 -1.018028\n",
       "0 -0.745738 -0.101299  0.806091  1.514106 -0.113947\n",
       "4 -0.890590  1.103491 -0.086584 -1.124422  0.306063\n",
       "2 -1.017121 -0.546560  1.473489 -1.543917  0.239414\n",
       "3 -1.043673  0.068613 -0.569225 -1.420704 -0.514006\n",
       "1 -1.848952 -2.438149 -1.020040  1.438472 -1.322352"
      ]
     },
     "execution_count": 18,
     "metadata": {},
     "output_type": "execute_result"
    }
   ],
   "source": [
    "df1.sort_values(by='A', ascending=False)"
   ]
  },
  {
   "cell_type": "code",
   "execution_count": 19,
   "metadata": {},
   "outputs": [
    {
     "data": {
      "text/html": [
       "<div>\n",
       "<style scoped>\n",
       "    .dataframe tbody tr th:only-of-type {\n",
       "        vertical-align: middle;\n",
       "    }\n",
       "\n",
       "    .dataframe tbody tr th {\n",
       "        vertical-align: top;\n",
       "    }\n",
       "\n",
       "    .dataframe thead th {\n",
       "        text-align: right;\n",
       "    }\n",
       "</style>\n",
       "<table border=\"1\" class=\"dataframe\">\n",
       "  <thead>\n",
       "    <tr style=\"text-align: right;\">\n",
       "      <th></th>\n",
       "      <th>A</th>\n",
       "      <th>B</th>\n",
       "      <th>C</th>\n",
       "      <th>D</th>\n",
       "      <th>E</th>\n",
       "    </tr>\n",
       "  </thead>\n",
       "  <tbody>\n",
       "    <tr>\n",
       "      <th>7</th>\n",
       "      <td>0.993657</td>\n",
       "      <td>-0.428136</td>\n",
       "      <td>-0.720561</td>\n",
       "      <td>1.832002</td>\n",
       "      <td>-2.092564</td>\n",
       "    </tr>\n",
       "    <tr>\n",
       "      <th>6</th>\n",
       "      <td>2.499634</td>\n",
       "      <td>1.711489</td>\n",
       "      <td>-0.071575</td>\n",
       "      <td>0.511890</td>\n",
       "      <td>1.002635</td>\n",
       "    </tr>\n",
       "    <tr>\n",
       "      <th>5</th>\n",
       "      <td>-0.341899</td>\n",
       "      <td>0.164348</td>\n",
       "      <td>0.402814</td>\n",
       "      <td>-1.383259</td>\n",
       "      <td>-1.018028</td>\n",
       "    </tr>\n",
       "    <tr>\n",
       "      <th>4</th>\n",
       "      <td>-0.890590</td>\n",
       "      <td>1.103491</td>\n",
       "      <td>-0.086584</td>\n",
       "      <td>-1.124422</td>\n",
       "      <td>0.306063</td>\n",
       "    </tr>\n",
       "    <tr>\n",
       "      <th>3</th>\n",
       "      <td>-1.043673</td>\n",
       "      <td>0.068613</td>\n",
       "      <td>-0.569225</td>\n",
       "      <td>-1.420704</td>\n",
       "      <td>-0.514006</td>\n",
       "    </tr>\n",
       "    <tr>\n",
       "      <th>2</th>\n",
       "      <td>-1.017121</td>\n",
       "      <td>-0.546560</td>\n",
       "      <td>1.473489</td>\n",
       "      <td>-1.543917</td>\n",
       "      <td>0.239414</td>\n",
       "    </tr>\n",
       "    <tr>\n",
       "      <th>1</th>\n",
       "      <td>-1.848952</td>\n",
       "      <td>-2.438149</td>\n",
       "      <td>-1.020040</td>\n",
       "      <td>1.438472</td>\n",
       "      <td>-1.322352</td>\n",
       "    </tr>\n",
       "    <tr>\n",
       "      <th>0</th>\n",
       "      <td>-0.745738</td>\n",
       "      <td>-0.101299</td>\n",
       "      <td>0.806091</td>\n",
       "      <td>1.514106</td>\n",
       "      <td>-0.113947</td>\n",
       "    </tr>\n",
       "  </tbody>\n",
       "</table>\n",
       "</div>"
      ],
      "text/plain": [
       "          A         B         C         D         E\n",
       "7  0.993657 -0.428136 -0.720561  1.832002 -2.092564\n",
       "6  2.499634  1.711489 -0.071575  0.511890  1.002635\n",
       "5 -0.341899  0.164348  0.402814 -1.383259 -1.018028\n",
       "4 -0.890590  1.103491 -0.086584 -1.124422  0.306063\n",
       "3 -1.043673  0.068613 -0.569225 -1.420704 -0.514006\n",
       "2 -1.017121 -0.546560  1.473489 -1.543917  0.239414\n",
       "1 -1.848952 -2.438149 -1.020040  1.438472 -1.322352\n",
       "0 -0.745738 -0.101299  0.806091  1.514106 -0.113947"
      ]
     },
     "execution_count": 19,
     "metadata": {},
     "output_type": "execute_result"
    }
   ],
   "source": [
    "df1.sort_index(ascending=False)"
   ]
  },
  {
   "cell_type": "code",
   "execution_count": null,
   "metadata": {},
   "outputs": [],
   "source": []
  }
 ],
 "metadata": {
  "kernelspec": {
   "display_name": "Python 3",
   "language": "python",
   "name": "python3"
  },
  "language_info": {
   "codemirror_mode": {
    "name": "ipython",
    "version": 3
   },
   "file_extension": ".py",
   "mimetype": "text/x-python",
   "name": "python",
   "nbconvert_exporter": "python",
   "pygments_lexer": "ipython3",
   "version": "3.8.3"
  }
 },
 "nbformat": 4,
 "nbformat_minor": 4
}

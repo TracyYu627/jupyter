{
 "cells": [
  {
   "cell_type": "code",
   "execution_count": 1,
   "metadata": {},
   "outputs": [
    {
     "data": {
      "text/plain": [
       "True"
      ]
     },
     "execution_count": 1,
     "metadata": {},
     "output_type": "execute_result"
    }
   ],
   "source": [
    "import numpy as np\n",
    "import pandas as pd\n",
    "from pandas import Series, DataFrame\n",
    "import webbrowser\n",
    "link = 'http://pandas.pydata.org/pandas-docs/version/0.20/io.html'\n",
    "webbrowser.open(link)"
   ]
  },
  {
   "cell_type": "code",
   "execution_count": 2,
   "metadata": {},
   "outputs": [
    {
     "data": {
      "text/html": [
       "<div>\n",
       "<style scoped>\n",
       "    .dataframe tbody tr th:only-of-type {\n",
       "        vertical-align: middle;\n",
       "    }\n",
       "\n",
       "    .dataframe tbody tr th {\n",
       "        vertical-align: top;\n",
       "    }\n",
       "\n",
       "    .dataframe thead th {\n",
       "        text-align: right;\n",
       "    }\n",
       "</style>\n",
       "<table border=\"1\" class=\"dataframe\">\n",
       "  <thead>\n",
       "    <tr style=\"text-align: right;\">\n",
       "      <th></th>\n",
       "      <th>Format Type</th>\n",
       "      <th>Data Description</th>\n",
       "      <th>Reader</th>\n",
       "      <th>Writer</th>\n",
       "    </tr>\n",
       "  </thead>\n",
       "  <tbody>\n",
       "    <tr>\n",
       "      <th>0</th>\n",
       "      <td>text</td>\n",
       "      <td>CSV</td>\n",
       "      <td>read_csv</td>\n",
       "      <td>to_csv</td>\n",
       "    </tr>\n",
       "    <tr>\n",
       "      <th>1</th>\n",
       "      <td>text</td>\n",
       "      <td>JSON</td>\n",
       "      <td>read_json</td>\n",
       "      <td>to_json</td>\n",
       "    </tr>\n",
       "    <tr>\n",
       "      <th>2</th>\n",
       "      <td>text</td>\n",
       "      <td>HTML</td>\n",
       "      <td>read_html</td>\n",
       "      <td>to_html</td>\n",
       "    </tr>\n",
       "    <tr>\n",
       "      <th>3</th>\n",
       "      <td>text</td>\n",
       "      <td>Local clipboard</td>\n",
       "      <td>read_clipboard</td>\n",
       "      <td>to_clipboard</td>\n",
       "    </tr>\n",
       "    <tr>\n",
       "      <th>4</th>\n",
       "      <td>binary</td>\n",
       "      <td>MS Excel</td>\n",
       "      <td>read_excel</td>\n",
       "      <td>to_excel</td>\n",
       "    </tr>\n",
       "    <tr>\n",
       "      <th>5</th>\n",
       "      <td>binary</td>\n",
       "      <td>HDF5 Format</td>\n",
       "      <td>read_hdf</td>\n",
       "      <td>to_hdf</td>\n",
       "    </tr>\n",
       "    <tr>\n",
       "      <th>6</th>\n",
       "      <td>binary</td>\n",
       "      <td>Feather Format</td>\n",
       "      <td>read_feather</td>\n",
       "      <td>to_feather</td>\n",
       "    </tr>\n",
       "    <tr>\n",
       "      <th>7</th>\n",
       "      <td>binary</td>\n",
       "      <td>Msgpack</td>\n",
       "      <td>read_msgpack</td>\n",
       "      <td>to_msgpack</td>\n",
       "    </tr>\n",
       "    <tr>\n",
       "      <th>8</th>\n",
       "      <td>binary</td>\n",
       "      <td>Stata</td>\n",
       "      <td>read_stata</td>\n",
       "      <td>to_stata</td>\n",
       "    </tr>\n",
       "    <tr>\n",
       "      <th>9</th>\n",
       "      <td>binary</td>\n",
       "      <td>SAS</td>\n",
       "      <td>read_sas</td>\n",
       "      <td></td>\n",
       "    </tr>\n",
       "    <tr>\n",
       "      <th>10</th>\n",
       "      <td>binary</td>\n",
       "      <td>Python Pickle Format</td>\n",
       "      <td>read_pickle</td>\n",
       "      <td>to_pickle</td>\n",
       "    </tr>\n",
       "    <tr>\n",
       "      <th>11</th>\n",
       "      <td>SQL</td>\n",
       "      <td>SQL</td>\n",
       "      <td>read_sql</td>\n",
       "      <td>to_sql</td>\n",
       "    </tr>\n",
       "    <tr>\n",
       "      <th>12</th>\n",
       "      <td>SQL</td>\n",
       "      <td>Google Big Query</td>\n",
       "      <td>read_gbq</td>\n",
       "      <td>to_gbq</td>\n",
       "    </tr>\n",
       "  </tbody>\n",
       "</table>\n",
       "</div>"
      ],
      "text/plain": [
       "   Format Type      Data Description          Reader        Writer\n",
       "0         text                   CSV        read_csv        to_csv\n",
       "1         text                  JSON       read_json       to_json\n",
       "2         text                  HTML       read_html       to_html\n",
       "3         text       Local clipboard  read_clipboard  to_clipboard\n",
       "4       binary              MS Excel      read_excel      to_excel\n",
       "5       binary           HDF5 Format        read_hdf        to_hdf\n",
       "6       binary        Feather Format    read_feather    to_feather\n",
       "7       binary               Msgpack    read_msgpack    to_msgpack\n",
       "8       binary                 Stata      read_stata      to_stata\n",
       "9       binary                   SAS        read_sas              \n",
       "10      binary  Python Pickle Format     read_pickle     to_pickle\n",
       "11         SQL                   SQL        read_sql        to_sql\n",
       "12         SQL      Google Big Query        read_gbq        to_gbq"
      ]
     },
     "execution_count": 2,
     "metadata": {},
     "output_type": "execute_result"
    }
   ],
   "source": [
    "df = pd.read_clipboard()\n",
    "df"
   ]
  },
  {
   "cell_type": "code",
   "execution_count": 4,
   "metadata": {},
   "outputs": [],
   "source": [
    "df.to_clipboard()"
   ]
  },
  {
   "cell_type": "markdown",
   "metadata": {},
   "source": [
    "# CSV"
   ]
  },
  {
   "cell_type": "code",
   "execution_count": 5,
   "metadata": {},
   "outputs": [
    {
     "data": {
      "text/html": [
       "<div>\n",
       "<style scoped>\n",
       "    .dataframe tbody tr th:only-of-type {\n",
       "        vertical-align: middle;\n",
       "    }\n",
       "\n",
       "    .dataframe tbody tr th {\n",
       "        vertical-align: top;\n",
       "    }\n",
       "\n",
       "    .dataframe thead th {\n",
       "        text-align: right;\n",
       "    }\n",
       "</style>\n",
       "<table border=\"1\" class=\"dataframe\">\n",
       "  <thead>\n",
       "    <tr style=\"text-align: right;\">\n",
       "      <th></th>\n",
       "      <th>Format Type</th>\n",
       "      <th>Data Description</th>\n",
       "      <th>Reader</th>\n",
       "      <th>Writer</th>\n",
       "    </tr>\n",
       "  </thead>\n",
       "  <tbody>\n",
       "    <tr>\n",
       "      <th>0</th>\n",
       "      <td>text</td>\n",
       "      <td>CSV</td>\n",
       "      <td>read_csv</td>\n",
       "      <td>to_csv</td>\n",
       "    </tr>\n",
       "    <tr>\n",
       "      <th>1</th>\n",
       "      <td>text</td>\n",
       "      <td>JSON</td>\n",
       "      <td>read_json</td>\n",
       "      <td>to_json</td>\n",
       "    </tr>\n",
       "    <tr>\n",
       "      <th>2</th>\n",
       "      <td>text</td>\n",
       "      <td>HTML</td>\n",
       "      <td>read_html</td>\n",
       "      <td>to_html</td>\n",
       "    </tr>\n",
       "    <tr>\n",
       "      <th>3</th>\n",
       "      <td>text</td>\n",
       "      <td>Local clipboard</td>\n",
       "      <td>read_clipboard</td>\n",
       "      <td>to_clipboard</td>\n",
       "    </tr>\n",
       "    <tr>\n",
       "      <th>4</th>\n",
       "      <td>binary</td>\n",
       "      <td>MS Excel</td>\n",
       "      <td>read_excel</td>\n",
       "      <td>to_excel</td>\n",
       "    </tr>\n",
       "    <tr>\n",
       "      <th>5</th>\n",
       "      <td>binary</td>\n",
       "      <td>HDF5 Format</td>\n",
       "      <td>read_hdf</td>\n",
       "      <td>to_hdf</td>\n",
       "    </tr>\n",
       "    <tr>\n",
       "      <th>6</th>\n",
       "      <td>binary</td>\n",
       "      <td>Feather Format</td>\n",
       "      <td>read_feather</td>\n",
       "      <td>to_feather</td>\n",
       "    </tr>\n",
       "    <tr>\n",
       "      <th>7</th>\n",
       "      <td>binary</td>\n",
       "      <td>Msgpack</td>\n",
       "      <td>read_msgpack</td>\n",
       "      <td>to_msgpack</td>\n",
       "    </tr>\n",
       "    <tr>\n",
       "      <th>8</th>\n",
       "      <td>binary</td>\n",
       "      <td>Stata</td>\n",
       "      <td>read_stata</td>\n",
       "      <td>to_stata</td>\n",
       "    </tr>\n",
       "    <tr>\n",
       "      <th>9</th>\n",
       "      <td>binary</td>\n",
       "      <td>SAS</td>\n",
       "      <td>read_sas</td>\n",
       "      <td></td>\n",
       "    </tr>\n",
       "    <tr>\n",
       "      <th>10</th>\n",
       "      <td>binary</td>\n",
       "      <td>Python Pickle Format</td>\n",
       "      <td>read_pickle</td>\n",
       "      <td>to_pickle</td>\n",
       "    </tr>\n",
       "    <tr>\n",
       "      <th>11</th>\n",
       "      <td>SQL</td>\n",
       "      <td>SQL</td>\n",
       "      <td>read_sql</td>\n",
       "      <td>to_sql</td>\n",
       "    </tr>\n",
       "    <tr>\n",
       "      <th>12</th>\n",
       "      <td>SQL</td>\n",
       "      <td>Google Big Query</td>\n",
       "      <td>read_gbq</td>\n",
       "      <td>to_gbq</td>\n",
       "    </tr>\n",
       "  </tbody>\n",
       "</table>\n",
       "</div>"
      ],
      "text/plain": [
       "   Format Type      Data Description          Reader        Writer\n",
       "0         text                   CSV        read_csv        to_csv\n",
       "1         text                  JSON       read_json       to_json\n",
       "2         text                  HTML       read_html       to_html\n",
       "3         text       Local clipboard  read_clipboard  to_clipboard\n",
       "4       binary              MS Excel      read_excel      to_excel\n",
       "5       binary           HDF5 Format        read_hdf        to_hdf\n",
       "6       binary        Feather Format    read_feather    to_feather\n",
       "7       binary               Msgpack    read_msgpack    to_msgpack\n",
       "8       binary                 Stata      read_stata      to_stata\n",
       "9       binary                   SAS        read_sas              \n",
       "10      binary  Python Pickle Format     read_pickle     to_pickle\n",
       "11         SQL                   SQL        read_sql        to_sql\n",
       "12         SQL      Google Big Query        read_gbq        to_gbq"
      ]
     },
     "execution_count": 5,
     "metadata": {},
     "output_type": "execute_result"
    }
   ],
   "source": [
    "df.to_csv('df1.csv', index = False)\n",
    "df"
   ]
  },
  {
   "cell_type": "code",
   "execution_count": 6,
   "metadata": {},
   "outputs": [
    {
     "name": "stdout",
     "output_type": "stream",
     "text": [
      "DataFrame IO.ipynb                   df1.csv\r\n",
      "Dataframe.ipynb                      深入理解Series和DataFrame.ipynb\r\n",
      "Series.ipynb\r\n"
     ]
    }
   ],
   "source": [
    "!ls"
   ]
  },
  {
   "cell_type": "code",
   "execution_count": null,
   "metadata": {},
   "outputs": [],
   "source": [
    "!more df1.csv"
   ]
  },
  {
   "cell_type": "code",
   "execution_count": null,
   "metadata": {},
   "outputs": [],
   "source": [
    "df.to_csv('df.csv', index = True)"
   ]
  },
  {
   "cell_type": "code",
   "execution_count": null,
   "metadata": {},
   "outputs": [
    {
     "name": "stdout",
     "output_type": "stream",
     "text": [
      "\u001b[?1h\u001b=\r",
      ",Format Type,Data Description,Reader,Writer\r\n",
      "0,text,CSV,read_csv,to_csv\r\n",
      "1,text,JSON,read_json,to_json\r\n",
      "2,text,HTML,read_html,to_html\r\n",
      "3,text,Local clipboard,read_clipboard,to_clipboard\r\n",
      "4,binary,MS Excel,read_excel,to_excel\r\n",
      "5,binary,HDF5 Format,read_hdf,to_hdf\r\n",
      "6,binary,Feather Format,read_feather,to_feather\r\n",
      "7,binary,Msgpack,read_msgpack,to_msgpack\r\n",
      "8,binary,Stata,read_stata,to_stata\r\n",
      "9,binary,SAS,read_sas, \r\n",
      "10,binary,Python Pickle Format,read_pickle,to_pickle\r\n",
      "11,SQL,SQL,read_sql,to_sql\r\n",
      "12,SQL,Google Big Query,read_gbq,to_gbq\r\n",
      "\u001b[7mdf.csv (END)\u001b[m\u001b[K"
     ]
    }
   ],
   "source": [
    "!more df.csv"
   ]
  },
  {
   "cell_type": "code",
   "execution_count": null,
   "metadata": {},
   "outputs": [],
   "source": [
    "df2 = pd.read_csv('df.csv')\n",
    "df2"
   ]
  },
  {
   "cell_type": "code",
   "execution_count": null,
   "metadata": {},
   "outputs": [],
   "source": []
  }
 ],
 "metadata": {
  "kernelspec": {
   "display_name": "Python 3",
   "language": "python",
   "name": "python3"
  },
  "language_info": {
   "codemirror_mode": {
    "name": "ipython",
    "version": 3
   },
   "file_extension": ".py",
   "mimetype": "text/x-python",
   "name": "python",
   "nbconvert_exporter": "python",
   "pygments_lexer": "ipython3",
   "version": "3.8.3"
  }
 },
 "nbformat": 4,
 "nbformat_minor": 4
}
